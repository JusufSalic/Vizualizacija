{
 "cells": [
  {
   "cell_type": "markdown",
   "metadata": {
    "dc": {
     "key": "3"
    },
    "deletable": false,
    "editable": false,
    "run_control": {
     "frozen": true
    },
    "tags": [
     "context"
    ]
   },
   "source": [
    "## 1. The most Nobel of Prizes\n",
    "<p><img style=\"float: right;margin:5px 20px 5px 1px; max-width:250px\" src=\"https://assets.datacamp.com/production/project_441/img/Nobel_Prize.png\"></p>\n",
    "<p>The Nobel Prize is perhaps the world's most well known scientific award. Except for the honor, prestige and substantial prize money the recipient also gets a gold medal showing Alfred Nobel (1833 - 1896) who established the prize. Every year it's given to scientists and scholars in the categories chemistry, literature, physics, physiology or medicine, economics, and peace. The first Nobel Prize was handed out in 1901, and at that time the Prize was very Eurocentric and male-focused, but nowadays it's not biased in any way whatsoever. Surely. Right?</p>\n",
    "<p>Well, we're going to find out! The Nobel Foundation has made a dataset available of all prize winners from the start of the prize, in 1901, to 2016. Let's load it in and take a look.</p>"
   ]
  },
  {
   "cell_type": "code",
   "execution_count": 17,
   "metadata": {
    "dc": {
     "key": "3"
    },
    "tags": [
     "sample_code"
    ]
   },
   "outputs": [
    {
     "data": {
      "text/html": [
       "<div>\n",
       "<style scoped>\n",
       "    .dataframe tbody tr th:only-of-type {\n",
       "        vertical-align: middle;\n",
       "    }\n",
       "\n",
       "    .dataframe tbody tr th {\n",
       "        vertical-align: top;\n",
       "    }\n",
       "\n",
       "    .dataframe thead th {\n",
       "        text-align: right;\n",
       "    }\n",
       "</style>\n",
       "<table border=\"1\" class=\"dataframe\">\n",
       "  <thead>\n",
       "    <tr style=\"text-align: right;\">\n",
       "      <th></th>\n",
       "      <th>year</th>\n",
       "      <th>category</th>\n",
       "      <th>prize</th>\n",
       "      <th>motivation</th>\n",
       "      <th>prize_share</th>\n",
       "      <th>laureate_id</th>\n",
       "      <th>laureate_type</th>\n",
       "      <th>full_name</th>\n",
       "      <th>birth_date</th>\n",
       "      <th>birth_city</th>\n",
       "      <th>birth_country</th>\n",
       "      <th>sex</th>\n",
       "      <th>organization_name</th>\n",
       "      <th>organization_city</th>\n",
       "      <th>organization_country</th>\n",
       "      <th>death_date</th>\n",
       "      <th>death_city</th>\n",
       "      <th>death_country</th>\n",
       "    </tr>\n",
       "  </thead>\n",
       "  <tbody>\n",
       "    <tr>\n",
       "      <th>5</th>\n",
       "      <td>1901</td>\n",
       "      <td>Physics</td>\n",
       "      <td>The Nobel Prize in Physics 1901</td>\n",
       "      <td>\"in recognition of the extraordinary services ...</td>\n",
       "      <td>1/1</td>\n",
       "      <td>1</td>\n",
       "      <td>Individual</td>\n",
       "      <td>Wilhelm Conrad Röntgen</td>\n",
       "      <td>1845-03-27</td>\n",
       "      <td>Lennep (Remscheid)</td>\n",
       "      <td>Prussia (Germany)</td>\n",
       "      <td>Male</td>\n",
       "      <td>Munich University</td>\n",
       "      <td>Munich</td>\n",
       "      <td>Germany</td>\n",
       "      <td>1923-02-10</td>\n",
       "      <td>Munich</td>\n",
       "      <td>Germany</td>\n",
       "    </tr>\n",
       "    <tr>\n",
       "      <th>11</th>\n",
       "      <td>1902</td>\n",
       "      <td>Physics</td>\n",
       "      <td>The Nobel Prize in Physics 1902</td>\n",
       "      <td>\"in recognition of the extraordinary service t...</td>\n",
       "      <td>1/2</td>\n",
       "      <td>2</td>\n",
       "      <td>Individual</td>\n",
       "      <td>Hendrik Antoon Lorentz</td>\n",
       "      <td>1853-07-18</td>\n",
       "      <td>Arnhem</td>\n",
       "      <td>Netherlands</td>\n",
       "      <td>Male</td>\n",
       "      <td>Leiden University</td>\n",
       "      <td>Leiden</td>\n",
       "      <td>Netherlands</td>\n",
       "      <td>1928-02-04</td>\n",
       "      <td>NaN</td>\n",
       "      <td>Netherlands</td>\n",
       "    </tr>\n",
       "    <tr>\n",
       "      <th>12</th>\n",
       "      <td>1902</td>\n",
       "      <td>Physics</td>\n",
       "      <td>The Nobel Prize in Physics 1902</td>\n",
       "      <td>\"in recognition of the extraordinary service t...</td>\n",
       "      <td>1/2</td>\n",
       "      <td>3</td>\n",
       "      <td>Individual</td>\n",
       "      <td>Pieter Zeeman</td>\n",
       "      <td>1865-05-25</td>\n",
       "      <td>Zonnemaire</td>\n",
       "      <td>Netherlands</td>\n",
       "      <td>Male</td>\n",
       "      <td>Amsterdam University</td>\n",
       "      <td>Amsterdam</td>\n",
       "      <td>Netherlands</td>\n",
       "      <td>1943-10-09</td>\n",
       "      <td>Amsterdam</td>\n",
       "      <td>Netherlands</td>\n",
       "    </tr>\n",
       "    <tr>\n",
       "      <th>17</th>\n",
       "      <td>1903</td>\n",
       "      <td>Physics</td>\n",
       "      <td>The Nobel Prize in Physics 1903</td>\n",
       "      <td>\"in recognition of the extraordinary services ...</td>\n",
       "      <td>1/2</td>\n",
       "      <td>4</td>\n",
       "      <td>Individual</td>\n",
       "      <td>Antoine Henri Becquerel</td>\n",
       "      <td>1852-12-15</td>\n",
       "      <td>Paris</td>\n",
       "      <td>France</td>\n",
       "      <td>Male</td>\n",
       "      <td>École Polytechnique</td>\n",
       "      <td>Paris</td>\n",
       "      <td>France</td>\n",
       "      <td>1908-08-25</td>\n",
       "      <td>NaN</td>\n",
       "      <td>France</td>\n",
       "    </tr>\n",
       "    <tr>\n",
       "      <th>18</th>\n",
       "      <td>1903</td>\n",
       "      <td>Physics</td>\n",
       "      <td>The Nobel Prize in Physics 1903</td>\n",
       "      <td>\"in recognition of the extraordinary services ...</td>\n",
       "      <td>1/4</td>\n",
       "      <td>5</td>\n",
       "      <td>Individual</td>\n",
       "      <td>Pierre Curie</td>\n",
       "      <td>1859-05-15</td>\n",
       "      <td>Paris</td>\n",
       "      <td>France</td>\n",
       "      <td>Male</td>\n",
       "      <td>École municipale de physique et de chimie indu...</td>\n",
       "      <td>Paris</td>\n",
       "      <td>France</td>\n",
       "      <td>1906-04-19</td>\n",
       "      <td>Paris</td>\n",
       "      <td>France</td>\n",
       "    </tr>\n",
       "    <tr>\n",
       "      <th>...</th>\n",
       "      <td>...</td>\n",
       "      <td>...</td>\n",
       "      <td>...</td>\n",
       "      <td>...</td>\n",
       "      <td>...</td>\n",
       "      <td>...</td>\n",
       "      <td>...</td>\n",
       "      <td>...</td>\n",
       "      <td>...</td>\n",
       "      <td>...</td>\n",
       "      <td>...</td>\n",
       "      <td>...</td>\n",
       "      <td>...</td>\n",
       "      <td>...</td>\n",
       "      <td>...</td>\n",
       "      <td>...</td>\n",
       "      <td>...</td>\n",
       "      <td>...</td>\n",
       "    </tr>\n",
       "    <tr>\n",
       "      <th>898</th>\n",
       "      <td>2015</td>\n",
       "      <td>Physics</td>\n",
       "      <td>The Nobel Prize in Physics 2015</td>\n",
       "      <td>\"for the discovery of neutrino oscillations, w...</td>\n",
       "      <td>1/2</td>\n",
       "      <td>919</td>\n",
       "      <td>Individual</td>\n",
       "      <td>Takaaki Kajita</td>\n",
       "      <td>1959-03-09</td>\n",
       "      <td>Higashimatsuyama</td>\n",
       "      <td>Japan</td>\n",
       "      <td>Male</td>\n",
       "      <td>University of Tokyo</td>\n",
       "      <td>Kashiwa</td>\n",
       "      <td>Japan</td>\n",
       "      <td>NaN</td>\n",
       "      <td>NaN</td>\n",
       "      <td>NaN</td>\n",
       "    </tr>\n",
       "    <tr>\n",
       "      <th>899</th>\n",
       "      <td>2015</td>\n",
       "      <td>Physics</td>\n",
       "      <td>The Nobel Prize in Physics 2015</td>\n",
       "      <td>\"for the discovery of neutrino oscillations, w...</td>\n",
       "      <td>1/2</td>\n",
       "      <td>920</td>\n",
       "      <td>Individual</td>\n",
       "      <td>Arthur B. McDonald</td>\n",
       "      <td>1943-08-29</td>\n",
       "      <td>Sydney</td>\n",
       "      <td>Canada</td>\n",
       "      <td>Male</td>\n",
       "      <td>Queen's University</td>\n",
       "      <td>Kingston</td>\n",
       "      <td>Canada</td>\n",
       "      <td>NaN</td>\n",
       "      <td>NaN</td>\n",
       "      <td>NaN</td>\n",
       "    </tr>\n",
       "    <tr>\n",
       "      <th>908</th>\n",
       "      <td>2016</td>\n",
       "      <td>Physics</td>\n",
       "      <td>The Nobel Prize in Physics 2016</td>\n",
       "      <td>\"for theoretical discoveries of topological ph...</td>\n",
       "      <td>1/2</td>\n",
       "      <td>928</td>\n",
       "      <td>Individual</td>\n",
       "      <td>David J. Thouless</td>\n",
       "      <td>1934-09-21</td>\n",
       "      <td>Bearsden</td>\n",
       "      <td>United Kingdom</td>\n",
       "      <td>Male</td>\n",
       "      <td>University of Washington</td>\n",
       "      <td>Seattle, WA</td>\n",
       "      <td>United States of America</td>\n",
       "      <td>NaN</td>\n",
       "      <td>NaN</td>\n",
       "      <td>NaN</td>\n",
       "    </tr>\n",
       "    <tr>\n",
       "      <th>909</th>\n",
       "      <td>2016</td>\n",
       "      <td>Physics</td>\n",
       "      <td>The Nobel Prize in Physics 2016</td>\n",
       "      <td>\"for theoretical discoveries of topological ph...</td>\n",
       "      <td>1/4</td>\n",
       "      <td>929</td>\n",
       "      <td>Individual</td>\n",
       "      <td>F. Duncan M. Haldane</td>\n",
       "      <td>1951-09-14</td>\n",
       "      <td>London</td>\n",
       "      <td>United Kingdom</td>\n",
       "      <td>Male</td>\n",
       "      <td>Princeton University</td>\n",
       "      <td>Princeton, NJ</td>\n",
       "      <td>United States of America</td>\n",
       "      <td>NaN</td>\n",
       "      <td>NaN</td>\n",
       "      <td>NaN</td>\n",
       "    </tr>\n",
       "    <tr>\n",
       "      <th>910</th>\n",
       "      <td>2016</td>\n",
       "      <td>Physics</td>\n",
       "      <td>The Nobel Prize in Physics 2016</td>\n",
       "      <td>\"for theoretical discoveries of topological ph...</td>\n",
       "      <td>1/4</td>\n",
       "      <td>930</td>\n",
       "      <td>Individual</td>\n",
       "      <td>J. Michael Kosterlitz</td>\n",
       "      <td>1943-06-22</td>\n",
       "      <td>Aberdeen</td>\n",
       "      <td>United Kingdom</td>\n",
       "      <td>Male</td>\n",
       "      <td>Brown University</td>\n",
       "      <td>Providence, RI</td>\n",
       "      <td>United States of America</td>\n",
       "      <td>NaN</td>\n",
       "      <td>NaN</td>\n",
       "      <td>NaN</td>\n",
       "    </tr>\n",
       "  </tbody>\n",
       "</table>\n",
       "<p>204 rows × 18 columns</p>\n",
       "</div>"
      ],
      "text/plain": [
       "     year category                            prize  \\\n",
       "5    1901  Physics  The Nobel Prize in Physics 1901   \n",
       "11   1902  Physics  The Nobel Prize in Physics 1902   \n",
       "12   1902  Physics  The Nobel Prize in Physics 1902   \n",
       "17   1903  Physics  The Nobel Prize in Physics 1903   \n",
       "18   1903  Physics  The Nobel Prize in Physics 1903   \n",
       "..    ...      ...                              ...   \n",
       "898  2015  Physics  The Nobel Prize in Physics 2015   \n",
       "899  2015  Physics  The Nobel Prize in Physics 2015   \n",
       "908  2016  Physics  The Nobel Prize in Physics 2016   \n",
       "909  2016  Physics  The Nobel Prize in Physics 2016   \n",
       "910  2016  Physics  The Nobel Prize in Physics 2016   \n",
       "\n",
       "                                            motivation prize_share  \\\n",
       "5    \"in recognition of the extraordinary services ...         1/1   \n",
       "11   \"in recognition of the extraordinary service t...         1/2   \n",
       "12   \"in recognition of the extraordinary service t...         1/2   \n",
       "17   \"in recognition of the extraordinary services ...         1/2   \n",
       "18   \"in recognition of the extraordinary services ...         1/4   \n",
       "..                                                 ...         ...   \n",
       "898  \"for the discovery of neutrino oscillations, w...         1/2   \n",
       "899  \"for the discovery of neutrino oscillations, w...         1/2   \n",
       "908  \"for theoretical discoveries of topological ph...         1/2   \n",
       "909  \"for theoretical discoveries of topological ph...         1/4   \n",
       "910  \"for theoretical discoveries of topological ph...         1/4   \n",
       "\n",
       "     laureate_id laureate_type                full_name  birth_date  \\\n",
       "5              1    Individual   Wilhelm Conrad Röntgen  1845-03-27   \n",
       "11             2    Individual   Hendrik Antoon Lorentz  1853-07-18   \n",
       "12             3    Individual            Pieter Zeeman  1865-05-25   \n",
       "17             4    Individual  Antoine Henri Becquerel  1852-12-15   \n",
       "18             5    Individual             Pierre Curie  1859-05-15   \n",
       "..           ...           ...                      ...         ...   \n",
       "898          919    Individual           Takaaki Kajita  1959-03-09   \n",
       "899          920    Individual       Arthur B. McDonald  1943-08-29   \n",
       "908          928    Individual        David J. Thouless  1934-09-21   \n",
       "909          929    Individual     F. Duncan M. Haldane  1951-09-14   \n",
       "910          930    Individual    J. Michael Kosterlitz  1943-06-22   \n",
       "\n",
       "             birth_city      birth_country   sex  \\\n",
       "5    Lennep (Remscheid)  Prussia (Germany)  Male   \n",
       "11               Arnhem        Netherlands  Male   \n",
       "12           Zonnemaire        Netherlands  Male   \n",
       "17                Paris             France  Male   \n",
       "18                Paris             France  Male   \n",
       "..                  ...                ...   ...   \n",
       "898    Higashimatsuyama              Japan  Male   \n",
       "899              Sydney             Canada  Male   \n",
       "908            Bearsden     United Kingdom  Male   \n",
       "909              London     United Kingdom  Male   \n",
       "910            Aberdeen     United Kingdom  Male   \n",
       "\n",
       "                                     organization_name organization_city  \\\n",
       "5                                    Munich University            Munich   \n",
       "11                                   Leiden University            Leiden   \n",
       "12                                Amsterdam University         Amsterdam   \n",
       "17                                 École Polytechnique             Paris   \n",
       "18   École municipale de physique et de chimie indu...             Paris   \n",
       "..                                                 ...               ...   \n",
       "898                                University of Tokyo           Kashiwa   \n",
       "899                                 Queen's University          Kingston   \n",
       "908                           University of Washington       Seattle, WA   \n",
       "909                               Princeton University     Princeton, NJ   \n",
       "910                                   Brown University    Providence, RI   \n",
       "\n",
       "         organization_country  death_date death_city death_country  \n",
       "5                     Germany  1923-02-10     Munich       Germany  \n",
       "11                Netherlands  1928-02-04        NaN   Netherlands  \n",
       "12                Netherlands  1943-10-09  Amsterdam   Netherlands  \n",
       "17                     France  1908-08-25        NaN        France  \n",
       "18                     France  1906-04-19      Paris        France  \n",
       "..                        ...         ...        ...           ...  \n",
       "898                     Japan         NaN        NaN           NaN  \n",
       "899                    Canada         NaN        NaN           NaN  \n",
       "908  United States of America         NaN        NaN           NaN  \n",
       "909  United States of America         NaN        NaN           NaN  \n",
       "910  United States of America         NaN        NaN           NaN  \n",
       "\n",
       "[204 rows x 18 columns]"
      ]
     },
     "execution_count": 17,
     "metadata": {},
     "output_type": "execute_result"
    }
   ],
   "source": [
    "# Loading in required libraries\n",
    "# ... YOUR CODE FOR TASK 1\n",
    "import seaborn as sns\n",
    "import numpy as np\n",
    "import pandas as pd\n",
    "\n",
    "# Reading in the Nobel Prize data\n",
    "nobel = pd.read_csv('datasets/nobel.csv')\n",
    "\n",
    "# Taking a look at the first several winners\n",
    "# ... YOUR CODE FOR TASK 1 ...\n",
    "nobel.head()\n",
    "#nobel[nobel.loc[category]=='Physics']\n",
    "nobel.loc[nobel['category']=='Physics']\n"
   ]
  },
  {
   "cell_type": "markdown",
   "metadata": {
    "dc": {
     "key": "10"
    },
    "deletable": false,
    "editable": false,
    "run_control": {
     "frozen": true
    },
    "tags": [
     "context"
    ]
   },
   "source": [
    "## 2. So, who gets the Nobel Prize?\n",
    "<p>Just looking at the first couple of prize winners, or Nobel laureates as they are also called, we already see a celebrity: Wilhelm Conrad Röntgen, the guy who discovered X-rays. And actually, we see that all of the winners in 1901 were guys that came from Europe. But that was back in 1901, looking at all winners in the dataset, from 1901 to 2016, which sex and which country is the most commonly represented? </p>\n",
    "<p>(For <em>country</em>, we will use the <code>birth_country</code> of the winner, as the <code>organization_country</code> is <code>NaN</code> for all shared Nobel Prizes.)</p>"
   ]
  },
  {
   "cell_type": "code",
   "execution_count": null,
   "metadata": {
    "dc": {
     "key": "10"
    },
    "tags": [
     "sample_code"
    ]
   },
   "outputs": [],
   "source": [
    "# Display the number of (possibly shared) Nobel Prizes handed\n",
    "# out between 1901 and 2016\n",
    "# ... YOUR CODE FOR TASK 2 ...\n",
    "\n",
    "# Display the number of prizes won by male and female recipients.\n",
    "# ... YOUR CODE FOR TASK 2 ...\n",
    "\n",
    "# Display the number of prizes won by the top 10 nationalities.\n",
    "# ... YOUR CODE FOR TASK 2 ..."
   ]
  },
  {
   "cell_type": "markdown",
   "metadata": {
    "dc": {
     "key": "17"
    },
    "deletable": false,
    "editable": false,
    "run_control": {
     "frozen": true
    },
    "tags": [
     "context"
    ]
   },
   "source": [
    "## 3. USA dominance\n",
    "<p>Not so surprising perhaps: the most common Nobel laureate between 1901 and 2016 was a man born in the United States of America. But in 1901 all the winners were European. When did the USA start to dominate the Nobel Prize charts?</p>"
   ]
  },
  {
   "cell_type": "code",
   "execution_count": null,
   "metadata": {
    "dc": {
     "key": "17"
    },
    "tags": [
     "sample_code"
    ]
   },
   "outputs": [],
   "source": [
    "# Calculating the proportion of USA born winners per decade\n",
    "nobel['usa_born_winner'] = ...\n",
    "nobel['decade'] = ...\n",
    "prop_usa_winners = ...\n",
    "\n",
    "# Display the proportions of USA born winners per decade\n",
    "# ... YOUR CODE FOR TASK 3 ..."
   ]
  },
  {
   "cell_type": "markdown",
   "metadata": {
    "dc": {
     "key": "24"
    },
    "deletable": false,
    "editable": false,
    "run_control": {
     "frozen": true
    },
    "tags": [
     "context"
    ]
   },
   "source": [
    "## 4. USA dominance, visualized\n",
    "<p>A table is OK, but to <em>see</em> when the USA started to dominate the Nobel charts we need a plot!</p>"
   ]
  },
  {
   "cell_type": "code",
   "execution_count": null,
   "metadata": {
    "dc": {
     "key": "24"
    },
    "tags": [
     "sample_code"
    ]
   },
   "outputs": [],
   "source": [
    "# Setting the plotting theme\n",
    "sns.set()\n",
    "# and setting the size of all plots.\n",
    "import matplotlib.pyplot as plt\n",
    "plt.rcParams['figure.figsize'] = [11, 7]\n",
    "\n",
    "# Plotting USA born winners \n",
    "ax = ...\n",
    "\n",
    "# Adding %-formatting to the y-axis\n",
    "from matplotlib.ticker import PercentFormatter\n",
    "# ... YOUR CODE FOR TASK 4 ..."
   ]
  },
  {
   "cell_type": "markdown",
   "metadata": {
    "dc": {
     "key": "31"
    },
    "deletable": false,
    "editable": false,
    "run_control": {
     "frozen": true
    },
    "tags": [
     "context"
    ]
   },
   "source": [
    "## 5. What is the gender of a typical Nobel Prize winner?\n",
    "<p>So the USA became the dominating winner of the Nobel Prize first in the 1930s and had kept the leading position ever since. But one group that was in the lead from the start, and never seems to let go, are <em>men</em>. Maybe it shouldn't come as a shock that there is some imbalance between how many male and female prize winners there are, but how significant is this imbalance? And is it better or worse within specific prize categories like physics, medicine, literature, etc.?</p>"
   ]
  },
  {
   "cell_type": "code",
   "execution_count": null,
   "metadata": {
    "dc": {
     "key": "31"
    },
    "tags": [
     "sample_code"
    ]
   },
   "outputs": [],
   "source": [
    "# Calculating the proportion of female laureates per decade\n",
    "nobel['female_winner'] = ...\n",
    "prop_female_winners = ...\n",
    "\n",
    "# Plotting USA born winners with % winners on the y-axis\n",
    "# ... YOUR CODE FOR TASK 5 ..."
   ]
  },
  {
   "cell_type": "markdown",
   "metadata": {
    "dc": {
     "key": "38"
    },
    "deletable": false,
    "editable": false,
    "run_control": {
     "frozen": true
    },
    "tags": [
     "context"
    ]
   },
   "source": [
    "## 6. The first woman to win the Nobel Prize\n",
    "<p>The plot above is a bit messy as the lines are overplotting. But it does show some interesting trends and patterns. Overall the imbalance is pretty large with physics, economics, and chemistry having the largest imbalance. Medicine has a somewhat positive trend, and since the 1990s the literature prize is also now more balanced. The big outlier is the peace prize during the 2010s, but keep in mind that this just covers the years 2010 to 2016.</p>\n",
    "<p>Given this imbalance, who was the first woman to receive a Nobel Prize? And in what category?</p>"
   ]
  },
  {
   "cell_type": "code",
   "execution_count": null,
   "metadata": {
    "dc": {
     "key": "38"
    },
    "tags": [
     "sample_code"
    ]
   },
   "outputs": [],
   "source": [
    "# Picking out the first woman to win a Nobel Prize\n",
    "# ... YOUR CODE FOR TASK 5 ..."
   ]
  },
  {
   "cell_type": "markdown",
   "metadata": {
    "dc": {
     "key": "45"
    },
    "deletable": false,
    "editable": false,
    "run_control": {
     "frozen": true
    },
    "tags": [
     "context"
    ]
   },
   "source": [
    "## 7. Repeat laureates\n",
    "<p>For most scientists/writers/activists a Nobel Prize would be the crowning achievement of a long career. But for some people, one is just not enough, and few have gotten it more than once. Who are these lucky few? (Having won no Nobel Prize myself, I'll assume it's just about luck.)</p>"
   ]
  },
  {
   "cell_type": "code",
   "execution_count": null,
   "metadata": {
    "dc": {
     "key": "45"
    },
    "tags": [
     "sample_code"
    ]
   },
   "outputs": [],
   "source": [
    "# Selecting the laureates that have received 2 or more prizes.\n",
    "# ... YOUR CODE FOR TASK 5 ..."
   ]
  },
  {
   "cell_type": "markdown",
   "metadata": {
    "dc": {
     "key": "52"
    },
    "deletable": false,
    "editable": false,
    "run_control": {
     "frozen": true
    },
    "tags": [
     "context"
    ]
   },
   "source": [
    "## 8. How old are you when you get the prize?\n",
    "<p>The list of repeat winners contains some illustrious names! We again meet Marie Curie, who got the prize in physics for discovering radiation and in chemistry for isolating radium and polonium. John Bardeen got it twice in physics for transistors and superconductivity, Frederick Sanger got it twice in chemistry, and Linus Carl Pauling got it first in chemistry and later in peace for his work in promoting nuclear disarmament. We also learn that organizations also get the prize as both the Red Cross and the UNHCR have gotten it twice.</p>\n",
    "<p>But how old are you generally when you get the prize?</p>"
   ]
  },
  {
   "cell_type": "code",
   "execution_count": null,
   "metadata": {
    "dc": {
     "key": "52"
    },
    "tags": [
     "sample_code"
    ]
   },
   "outputs": [],
   "source": [
    "# Converting birth_date from String to datetime\n",
    "nobel['birth_date'] = ...\n",
    "\n",
    "# Calculating the age of Nobel Prize winners\n",
    "nobel['age'] = ...\n",
    "\n",
    "# Plotting the age of Nobel Prize winners\n",
    "sns.lmplot(...)"
   ]
  },
  {
   "cell_type": "markdown",
   "metadata": {
    "dc": {
     "key": "59"
    },
    "deletable": false,
    "editable": false,
    "run_control": {
     "frozen": true
    },
    "tags": [
     "context"
    ]
   },
   "source": [
    "## 9. Age differences between prize categories\n",
    "<p>The plot above shows us a lot! We see that people use to be around 55 when they received the price, but nowadays the average is closer to 65. But there is a large spread in the laureates' ages, and while most are 50+, some are very young.</p>\n",
    "<p>We also see that the density of points is much high nowadays than in the early 1900s -- nowadays many more of the prizes are shared, and so there are many more winners. We also see that there was a disruption in awarded prizes around the Second World War (1939 - 1945). </p>\n",
    "<p>Let's look at age trends within different prize categories.</p>"
   ]
  },
  {
   "cell_type": "code",
   "execution_count": null,
   "metadata": {
    "dc": {
     "key": "59"
    },
    "tags": [
     "sample_code"
    ]
   },
   "outputs": [],
   "source": [
    "# Same plot as above, but separate plots for each type of Nobel Prize\n",
    "# ... YOUR CODE FOR TASK 9 ..."
   ]
  },
  {
   "cell_type": "markdown",
   "metadata": {
    "dc": {
     "key": "66"
    },
    "deletable": false,
    "editable": false,
    "run_control": {
     "frozen": true
    },
    "tags": [
     "context"
    ]
   },
   "source": [
    "## 10. Oldest and youngest winners\n",
    "<p>More plots with lots of exciting stuff going on! We see that both winners of the chemistry, medicine, and physics prize have gotten older over time. The trend is strongest for physics: the average age used to be below 50, and now it's almost 70. Literature and economics are more stable. We also see that economics is a newer category. But peace shows an opposite trend where winners are getting younger! </p>\n",
    "<p>In the peace category we also a winner around 2010 that seems exceptionally young. This begs the questions, who are the oldest and youngest people ever to have won a Nobel Prize?</p>"
   ]
  },
  {
   "cell_type": "code",
   "execution_count": null,
   "metadata": {
    "dc": {
     "key": "66"
    },
    "tags": [
     "sample_code"
    ]
   },
   "outputs": [],
   "source": [
    "# The oldest winner of a Nobel Prize as of 2016\n",
    "# ... YOUR CODE FOR TASK 10 ...\n",
    "\n",
    "# The youngest winner of a Nobel Prize as of 2016\n",
    "# ... YOUR CODE FOR TASK 10 ..."
   ]
  },
  {
   "cell_type": "markdown",
   "metadata": {
    "dc": {
     "key": "73"
    },
    "deletable": false,
    "editable": false,
    "run_control": {
     "frozen": true
    },
    "tags": [
     "context"
    ]
   },
   "source": [
    "## 11. You get a prize!\n",
    "<p><img style=\"float: right;margin:20px 20px 20px 20px; max-width:200px\" src=\"https://assets.datacamp.com/production/project_441/img/paint_nobel_prize.png\"></p>\n",
    "<p>Hey! You get a prize for making it to the very end of this notebook! It might not be a Nobel Prize, but I made it myself in paint so it should count for something. But don't despair, Leonid Hurwicz was 90 years old when he got his prize, so it might not be too late for you. Who knows.</p>\n",
    "<p>Before you leave, what was again the name of the youngest winner ever who in 2014 got the prize for \"[her] struggle against the suppression of children and young people and for the right of all children to education\"?</p>"
   ]
  },
  {
   "cell_type": "code",
   "execution_count": null,
   "metadata": {
    "dc": {
     "key": "73"
    },
    "tags": [
     "sample_code"
    ]
   },
   "outputs": [],
   "source": [
    "# The name of the youngest winner of the Nobel Prize as of 2016\n",
    "youngest_winner = '...'"
   ]
  }
 ],
 "metadata": {
  "kernelspec": {
   "display_name": "Python 3",
   "language": "python",
   "name": "python3"
  },
  "language_info": {
   "codemirror_mode": {
    "name": "ipython",
    "version": 3
   },
   "file_extension": ".py",
   "mimetype": "text/x-python",
   "name": "python",
   "nbconvert_exporter": "python",
   "pygments_lexer": "ipython3",
   "version": "3.8.8"
  }
 },
 "nbformat": 4,
 "nbformat_minor": 4
}
